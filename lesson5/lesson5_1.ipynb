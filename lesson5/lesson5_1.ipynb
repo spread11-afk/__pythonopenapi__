{
 "cells": [
  {
   "cell_type": "code",
   "execution_count": 3,
   "metadata": {},
   "outputs": [
    {
     "name": "stdout",
     "output_type": "stream",
     "text": [
      "您的BMI: 33  中度肥胖\n"
     ]
    }
   ],
   "source": [
    "try:\n",
    "    hight = float(input('請輸入身高(公分):'))\n",
    "    weight = float(input('請輸入體重(公斤):'))\n",
    "except:\n",
    "    print('請輸入數字')\n",
    "else:\n",
    "    bmi = weight/((hight*0.01)**2)\n",
    "    if round(bmi,1) < 18.5:\n",
    "        print(f'您的BMI: {round(bmi,1)}  過輕')\n",
    "    elif round(bmi) >= 24 and round(bmi) < 27:\n",
    "        print(f'您的BMI: {round(bmi)}  過重')\n",
    "    elif round(bmi) >= 27 and round(bmi) < 30:\n",
    "        print(f'您的BMI: {round(bmi)}  肥胖')\n",
    "    elif round(bmi) >= 30 and round(bmi) < 35:\n",
    "        print(f'您的BMI: {round(bmi)}  中度肥胖')\n",
    "    elif round(bmi) >= 35:\n",
    "        print(f'您的BMI: {round(bmi)}  重度肥胖')\n",
    "    else:\n",
    "        print(f'您的BMI: {round(bmi)}  正常')"
   ]
  },
  {
   "cell_type": "code",
   "execution_count": 2,
   "metadata": {},
   "outputs": [
    {
     "name": "stdout",
     "output_type": "stream",
     "text": [
      "1 ~ 100 加總：5050\n"
     ]
    }
   ],
   "source": [
    "# 1 ~ 100 加總\n",
    "\n",
    "value = 1\n",
    "total = 0\n",
    "while value <= 100:\n",
    "    total += value\n",
    "    value += 1\n",
    "\n",
    "print(f'1 ~ 100 加總：{total}')"
   ]
  }
 ],
 "metadata": {
  "kernelspec": {
   "display_name": ".venv",
   "language": "python",
   "name": "python3"
  },
  "language_info": {
   "codemirror_mode": {
    "name": "ipython",
    "version": 3
   },
   "file_extension": ".py",
   "mimetype": "text/x-python",
   "name": "python",
   "nbconvert_exporter": "python",
   "pygments_lexer": "ipython3",
   "version": "3.10.8"
  }
 },
 "nbformat": 4,
 "nbformat_minor": 2
}
