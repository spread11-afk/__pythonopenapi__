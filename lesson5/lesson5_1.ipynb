{
 "cells": [
  {
   "cell_type": "code",
   "execution_count": 3,
   "metadata": {},
   "outputs": [
    {
     "name": "stdout",
     "output_type": "stream",
     "text": [
      "您的BMI: 33  中度肥胖\n"
     ]
    }
   ],
   "source": [
    "try:\n",
    "    hight = float(input('請輸入身高(公分):'))\n",
    "    weight = float(input('請輸入體重(公斤):'))\n",
    "except:\n",
    "    print('請輸入數字')\n",
    "else:\n",
    "    bmi = weight/((hight*0.01)**2)\n",
    "    if round(bmi,1) < 18.5:\n",
    "        print(f'您的BMI: {round(bmi,1)}  過輕')\n",
    "    elif round(bmi) >= 24 and round(bmi) < 27:\n",
    "        print(f'您的BMI: {round(bmi)}  過重')\n",
    "    elif round(bmi) >= 27 and round(bmi) < 30:\n",
    "        print(f'您的BMI: {round(bmi)}  肥胖')\n",
    "    elif round(bmi) >= 30 and round(bmi) < 35:\n",
    "        print(f'您的BMI: {round(bmi)}  中度肥胖')\n",
    "    elif round(bmi) >= 35:\n",
    "        print(f'您的BMI: {round(bmi)}  重度肥胖')\n",
    "    else:\n",
    "        print(f'您的BMI: {round(bmi)}  正常')"
   ]
  },
  {
   "cell_type": "code",
   "execution_count": 2,
   "metadata": {},
   "outputs": [
    {
     "name": "stdout",
     "output_type": "stream",
     "text": [
      "1 ~ 100 加總：5050\n"
     ]
    }
   ],
   "source": [
    "# 1 ~ 100 加總 bool值\n",
    "\n",
    "value = 1\n",
    "total = 0\n",
    "while value <= 100:\n",
    "    total += value\n",
    "    value += 1\n",
    "\n",
    "print(f'1 ~ 100 加總：{total}')"
   ]
  },
  {
   "cell_type": "code",
   "execution_count": 3,
   "metadata": {},
   "outputs": [
    {
     "name": "stdout",
     "output_type": "stream",
     "text": [
      "1 ~ 100 加總：5050\n"
     ]
    }
   ],
   "source": [
    "# 1 ~ 100 加總 if ~ break\n",
    "\n",
    "value = 1\n",
    "total = 0\n",
    "while True:\n",
    "    total += value\n",
    "    value += 1\n",
    "    if value > 100:\n",
    "        break\n",
    "\n",
    "print(f'1 ~ 100 加總：{total}')"
   ]
  },
  {
   "cell_type": "code",
   "execution_count": null,
   "metadata": {},
   "outputs": [],
   "source": [
    "while True:\n",
    "    stuff = input('按q離開')\n",
    "    if stuff == 'q':\n",
    "        break\n",
    "    print(stuff.capitalize())\n",
    "print('End')"
   ]
  },
  {
   "cell_type": "code",
   "execution_count": 23,
   "metadata": {},
   "outputs": [
    {
     "name": "stdout",
     "output_type": "stream",
     "text": [
      "10\n",
      "60\n",
      "76\n",
      "156\n"
     ]
    },
    {
     "ename": "ValueError",
     "evalue": "invalid literal for int() with base 10: ''",
     "output_type": "error",
     "traceback": [
      "\u001b[1;31m---------------------------------------------------------------------------\u001b[0m",
      "\u001b[1;31mValueError\u001b[0m                                Traceback (most recent call last)",
      "Cell \u001b[1;32mIn[23], line 3\u001b[0m\n\u001b[0;32m      1\u001b[0m total \u001b[38;5;241m=\u001b[39m \u001b[38;5;241m0\u001b[39m\n\u001b[0;32m      2\u001b[0m \u001b[38;5;28;01mwhile\u001b[39;00m \u001b[38;5;28;01mTrue\u001b[39;00m:\n\u001b[1;32m----> 3\u001b[0m     value \u001b[38;5;241m=\u001b[39m \u001b[38;5;28;43mint\u001b[39;49m\u001b[43m(\u001b[49m\u001b[38;5;28;43minput\u001b[39;49m\u001b[43m(\u001b[49m\u001b[38;5;124;43m'\u001b[39;49m\u001b[38;5;124;43m輸入數值\u001b[39;49m\u001b[38;5;124;43m'\u001b[39;49m\u001b[43m)\u001b[49m\u001b[43m)\u001b[49m\n\u001b[0;32m      4\u001b[0m     \u001b[38;5;28;01mif\u001b[39;00m value \u001b[38;5;241m%\u001b[39m \u001b[38;5;241m2\u001b[39m \u001b[38;5;241m==\u001b[39m \u001b[38;5;241m0\u001b[39m:\n\u001b[0;32m      5\u001b[0m         total \u001b[38;5;241m+\u001b[39m\u001b[38;5;241m=\u001b[39m value\n",
      "\u001b[1;31mValueError\u001b[0m: invalid literal for int() with base 10: ''"
     ]
    }
   ],
   "source": [
    "total = 0\n",
    "while True:\n",
    "    value = int(input('輸入數值'))\n",
    "    if value % 2 == 0:\n",
    "        total += value\n",
    "        print(total)\n",
    "    elif value % 2 == 1:\n",
    "        continue\n",
    "    elif value < 0:\n",
    "        break"
   ]
  },
  {
   "cell_type": "code",
   "execution_count": 22,
   "metadata": {},
   "outputs": [
    {
     "data": {
      "text/plain": [
       "1"
      ]
     },
     "execution_count": 22,
     "metadata": {},
     "output_type": "execute_result"
    }
   ],
   "source": [
    "-1%2"
   ]
  },
  {
   "cell_type": "code",
   "execution_count": 10,
   "metadata": {},
   "outputs": [
    {
     "name": "stdout",
     "output_type": "stream",
     "text": [
      "加總：20\n"
     ]
    }
   ],
   "source": [
    "total = 0\n",
    "while True:\n",
    "    value = int(input('輸入數值'))\n",
    "    if value < 0:\n",
    "        break\n",
    "    elif value % 2 == 1:\n",
    "        continue\n",
    "    else:\n",
    "        total += value\n",
    "\n",
    "print(f'加總：{total}')\n"
   ]
  }
 ],
 "metadata": {
  "kernelspec": {
   "display_name": ".venv",
   "language": "python",
   "name": "python3"
  },
  "language_info": {
   "codemirror_mode": {
    "name": "ipython",
    "version": 3
   },
   "file_extension": ".py",
   "mimetype": "text/x-python",
   "name": "python",
   "nbconvert_exporter": "python",
   "pygments_lexer": "ipython3",
   "version": "3.10.8"
  }
 },
 "nbformat": 4,
 "nbformat_minor": 2
}
