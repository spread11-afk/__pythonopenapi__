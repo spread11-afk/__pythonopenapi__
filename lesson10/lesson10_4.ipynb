{
 "cells": [
  {
   "cell_type": "code",
   "execution_count": 1,
   "metadata": {},
   "outputs": [],
   "source": [
    "import redis\n",
    "from dotenv import load_dotenv\n",
    "import os\n",
    "\n",
    "load_dotenv()\n",
    "redis_conn = redis.Redis.from_url(os.environ.get('REDIS_HOST_PASSWORD'))"
   ]
  },
  {
   "cell_type": "code",
   "execution_count": 5,
   "metadata": {},
   "outputs": [
    {
     "data": {
      "text/plain": [
       "1"
      ]
     },
     "execution_count": 5,
     "metadata": {},
     "output_type": "execute_result"
    }
   ],
   "source": [
    "id = 'stu01'\n",
    "name = \"徐國堂\"\n",
    "chinese = 78\n",
    "english = 92\n",
    "math = 65\n",
    "\n",
    "redis_conn.rpush('classA:stu',id)\n",
    "redis_conn.hset('classA:name',mapping={id:name})\n",
    "redis_conn.hset('classA:chinese',mapping={id:chinese})\n",
    "redis_conn.hset('classA:english',mapping={id:english})\n",
    "redis_conn.hset('classA:math',mapping={id:math})\n"
   ]
  },
  {
   "cell_type": "code",
   "execution_count": 6,
   "metadata": {},
   "outputs": [
    {
     "data": {
      "text/plain": [
       "1"
      ]
     },
     "execution_count": 6,
     "metadata": {},
     "output_type": "execute_result"
    }
   ],
   "source": [
    "id = 'stu02'\n",
    "name = \"張xx\"\n",
    "chinese =100\n",
    "english = 67\n",
    "math = 89\n",
    "\n",
    "redis_conn.rpush('classA:stu',id)\n",
    "redis_conn.hset('classA:name',mapping={id:name})\n",
    "redis_conn.hset('classA:chinese',mapping={id:chinese})\n",
    "redis_conn.hset('classA:english',mapping={id:english})\n",
    "redis_conn.hset('classA:math',mapping={id:math})\n"
   ]
  },
  {
   "cell_type": "code",
   "execution_count": 7,
   "metadata": {},
   "outputs": [
    {
     "data": {
      "text/plain": [
       "1"
      ]
     },
     "execution_count": 7,
     "metadata": {},
     "output_type": "execute_result"
    }
   ],
   "source": [
    "id = 'stu03'\n",
    "name = \"李xx\"\n",
    "chinese = 56\n",
    "english = 100\n",
    "math = 97\n",
    "\n",
    "redis_conn.rpush('classA:stu',id)\n",
    "redis_conn.hset('classA:name',mapping={id:name})\n",
    "redis_conn.hset('classA:chinese',mapping={id:chinese})\n",
    "redis_conn.hset('classA:english',mapping={id:english})\n",
    "redis_conn.hset('classA:math',mapping={id:math})"
   ]
  },
  {
   "cell_type": "code",
   "execution_count": 15,
   "metadata": {},
   "outputs": [
    {
     "data": {
      "text/plain": [
       "['stu02', 'stu03']"
      ]
     },
     "execution_count": 15,
     "metadata": {},
     "output_type": "execute_result"
    }
   ],
   "source": [
    "id_list = [item.decode() for item in redis_conn.lrange('classA:stu',-2,-1)]\n",
    "id_list"
   ]
  },
  {
   "cell_type": "code",
   "execution_count": 16,
   "metadata": {},
   "outputs": [
    {
     "name": "stdout",
     "output_type": "stream",
     "text": [
      "張xx 100 67 89\n",
      "=============\n",
      "李xx 56 100 97\n",
      "=============\n"
     ]
    }
   ],
   "source": [
    "for id in id_list:\n",
    "    name = redis_conn.hget('classA:name',id).decode()\n",
    "    chinese = redis_conn.hget('classA:chinese',id).decode()\n",
    "    english = redis_conn.hget('classA:english',id).decode()\n",
    "    math = redis_conn.hget('classA:math',id).decode()\n",
    "    print(name,chinese,english,math)\n",
    "    print(\"=============\")"
   ]
  }
 ],
 "metadata": {
  "kernelspec": {
   "display_name": "Python 3",
   "language": "python",
   "name": "python3"
  },
  "language_info": {
   "codemirror_mode": {
    "name": "ipython",
    "version": 3
   },
   "file_extension": ".py",
   "mimetype": "text/x-python",
   "name": "python",
   "nbconvert_exporter": "python",
   "pygments_lexer": "ipython3",
   "version": "3.10.8"
  }
 },
 "nbformat": 4,
 "nbformat_minor": 2
}
