{
 "cells": [
  {
   "cell_type": "code",
   "execution_count": 14,
   "metadata": {},
   "outputs": [],
   "source": [
    "import redis\n",
    "from dotenv import load_dotenv\n",
    "import os\n",
    "\n",
    "load_dotenv()\n",
    "redis_conn = redis.Redis.from_url(os.environ.get('REDIS_HOST_PASSWORD'))"
   ]
  },
  {
   "cell_type": "code",
   "execution_count": 10,
   "metadata": {},
   "outputs": [
    {
     "data": {
      "text/plain": [
       "True"
      ]
     },
     "execution_count": 10,
     "metadata": {},
     "output_type": "execute_result"
    }
   ],
   "source": [
    "name = \"哈哈哈\"\n",
    "chinese = 70\n",
    "english = 90\n",
    "math = 50\n",
    "\n",
    "redis_conn.set('name',name)\n",
    "redis_conn.set('chinese',chinese)\n",
    "redis_conn.set('english',english)\n",
    "redis_conn.set('math', math)"
   ]
  },
  {
   "cell_type": "code",
   "execution_count": 7,
   "metadata": {},
   "outputs": [
    {
     "name": "stdout",
     "output_type": "stream",
     "text": [
      "哈哈哈\n",
      "70\n",
      "90\n",
      "50\n"
     ]
    }
   ],
   "source": [
    "print(redis_conn.get('name').decode())\n",
    "print(redis_conn.get('chinese').decode())\n",
    "print(redis_conn.get('english').decode())\n",
    "print(redis_conn.get('math').decode())"
   ]
  },
  {
   "cell_type": "code",
   "execution_count": 9,
   "metadata": {},
   "outputs": [
    {
     "data": {
      "text/plain": [
       "0"
      ]
     },
     "execution_count": 9,
     "metadata": {},
     "output_type": "execute_result"
    }
   ],
   "source": [
    "#刪除key\n",
    "redis_conn.delete('name')\n",
    "redis_conn.delete('chinese')\n",
    "redis_conn.delete('english')\n",
    "redis_conn.delete('math')"
   ]
  },
  {
   "cell_type": "code",
   "execution_count": null,
   "metadata": {},
   "outputs": [],
   "source": []
  }
 ],
 "metadata": {
  "kernelspec": {
   "display_name": "Python 3",
   "language": "python",
   "name": "python3"
  },
  "language_info": {
   "codemirror_mode": {
    "name": "ipython",
    "version": 3
   },
   "file_extension": ".py",
   "mimetype": "text/x-python",
   "name": "python",
   "nbconvert_exporter": "python",
   "pygments_lexer": "ipython3",
   "version": "3.10.8"
  }
 },
 "nbformat": 4,
 "nbformat_minor": 2
}
