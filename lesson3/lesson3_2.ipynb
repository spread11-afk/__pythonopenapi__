{
 "cells": [
  {
   "cell_type": "code",
   "execution_count": 6,
   "metadata": {},
   "outputs": [
    {
     "name": "stdout",
     "output_type": "stream",
     "text": [
      "半徑:486.4\n",
      "圓面積:743253.572285835 平方公分\n"
     ]
    }
   ],
   "source": [
    "import math\n",
    "r = float(input('輸入半徑:'))\n",
    "a = (math.pi * r) ** 2\n",
    "print(f'半徑:{r}')\n",
    "print(f'圓面積:{a} 平方公分')"
   ]
  },
  {
   "cell_type": "code",
   "execution_count": 11,
   "metadata": {},
   "outputs": [
    {
     "name": "stdout",
     "output_type": "stream",
     "text": [
      "圓周率:3.14\n",
      "角度:180\n"
     ]
    }
   ],
   "source": [
    "pi = float(input(\"輸入圓周率:\"))\n",
    "d = math.degrees(pi)\n",
    "print(f'圓周率:{pi}')\n",
    "print(f'角度:{round(d)}')"
   ]
  }
 ],
 "metadata": {
  "kernelspec": {
   "display_name": ".venv",
   "language": "python",
   "name": "python3"
  },
  "language_info": {
   "codemirror_mode": {
    "name": "ipython",
    "version": 3
   },
   "file_extension": ".py",
   "mimetype": "text/x-python",
   "name": "python",
   "nbconvert_exporter": "python",
   "pygments_lexer": "ipython3",
   "version": "3.10.8"
  }
 },
 "nbformat": 4,
 "nbformat_minor": 2
}
