{
 "cells": [
  {
   "cell_type": "code",
   "execution_count": 1,
   "metadata": {},
   "outputs": [
    {
     "data": {
      "text/plain": [
       "True"
      ]
     },
     "execution_count": 1,
     "metadata": {},
     "output_type": "execute_result"
    }
   ],
   "source": [
    "5 > 3"
   ]
  },
  {
   "cell_type": "code",
   "execution_count": 2,
   "metadata": {},
   "outputs": [
    {
     "data": {
      "text/plain": [
       "True"
      ]
     },
     "execution_count": 2,
     "metadata": {},
     "output_type": "execute_result"
    }
   ],
   "source": [
    "5 == 5"
   ]
  },
  {
   "cell_type": "code",
   "execution_count": 3,
   "metadata": {},
   "outputs": [
    {
     "data": {
      "text/plain": [
       "False"
      ]
     },
     "execution_count": 3,
     "metadata": {},
     "output_type": "execute_result"
    }
   ],
   "source": [
    "5 != 5"
   ]
  },
  {
   "cell_type": "code",
   "execution_count": 6,
   "metadata": {},
   "outputs": [
    {
     "name": "stdout",
     "output_type": "stream",
     "text": [
      "不可以投\n",
      "未成年\n"
     ]
    }
   ],
   "source": [
    "age = int(input('輸入年齡:'))\n",
    "if age >= 18:\n",
    "    print('可以投票')\n",
    "    print('成年')\n",
    "else:\n",
    "    print('不可以投')\n",
    "    print('未成年')"
   ]
  },
  {
   "cell_type": "code",
   "execution_count": 16,
   "metadata": {},
   "outputs": [
    {
     "name": "stdout",
     "output_type": "stream",
     "text": [
      "300\n"
     ]
    }
   ],
   "source": [
    "try:    \n",
    "    score = int(input('輸入分數(最高300分):'))\n",
    "    if score <= 300:\n",
    "        is_add = input('符合加分?(y,n):')\n",
    "        if (is_add == \"y\"):\n",
    "            score *= 1.05\n",
    "            if score > 300:\n",
    "                score = 300\n",
    "            print(round(score))\n",
    "    else:\n",
    "        print('錯誤')\n",
    "except:\n",
    "    print('輸入數字')"
   ]
  },
  {
   "cell_type": "code",
   "execution_count": 9,
   "metadata": {},
   "outputs": [
    {
     "name": "stdout",
     "output_type": "stream",
     "text": [
      "成功\n"
     ]
    }
   ],
   "source": [
    "distance = float(input('距離'))\n",
    "if distance >= 80:\n",
    "    if distance <= 100:\n",
    "        print('成功')\n",
    "    else:\n",
    "        print('失敗')\n",
    "else:\n",
    "        print('失敗')"
   ]
  },
  {
   "cell_type": "code",
   "execution_count": 11,
   "metadata": {},
   "outputs": [
    {
     "name": "stdout",
     "output_type": "stream",
     "text": [
      "失敗\n"
     ]
    }
   ],
   "source": [
    "distance = float(input('距離'))\n",
    "# 邏輯運算子\n",
    "if distance >= 80 and distance <= 100:\n",
    "    print('成功')\n",
    "else:\n",
    "    print('失敗')"
   ]
  },
  {
   "cell_type": "code",
   "execution_count": 13,
   "metadata": {},
   "outputs": [
    {
     "name": "stdout",
     "output_type": "stream",
     "text": [
      "失敗\n"
     ]
    }
   ],
   "source": [
    "distance = float(input('距離'))\n",
    "# 邏輯運算子\n",
    "if distance < 80 or distance > 100:\n",
    "    print('成功')\n",
    "else:\n",
    "    print('失敗')"
   ]
  }
 ],
 "metadata": {
  "kernelspec": {
   "display_name": ".venv",
   "language": "python",
   "name": "python3"
  },
  "language_info": {
   "codemirror_mode": {
    "name": "ipython",
    "version": 3
   },
   "file_extension": ".py",
   "mimetype": "text/x-python",
   "name": "python",
   "nbconvert_exporter": "python",
   "pygments_lexer": "ipython3",
   "version": "3.10.8"
  }
 },
 "nbformat": 4,
 "nbformat_minor": 2
}
