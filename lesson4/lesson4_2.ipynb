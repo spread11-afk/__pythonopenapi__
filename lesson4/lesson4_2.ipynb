{
 "cells": [
  {
   "cell_type": "code",
   "execution_count": 7,
   "metadata": {},
   "outputs": [
    {
     "name": "stdout",
     "output_type": "stream",
     "text": [
      "true\n",
      "沒有發生錯誤\n",
      "end\n"
     ]
    }
   ],
   "source": [
    "try:\n",
    "    # 2 / 0\n",
    "    print('true')\n",
    "except:\n",
    "    print('error')\n",
    "else:\n",
    "    print('沒有發生錯誤')\n",
    "print('end')"
   ]
  },
  {
   "cell_type": "code",
   "execution_count": 3,
   "metadata": {},
   "outputs": [
    {
     "name": "stdout",
     "output_type": "stream",
     "text": [
      "Oops!  That was no valid number.  Try again...\n"
     ]
    }
   ],
   "source": [
    "try:\n",
    "    raise RuntimeError('錯誤')\n",
    "except:\n",
    "    print('Oops!  That was no valid number.  Try again...')"
   ]
  }
 ],
 "metadata": {
  "kernelspec": {
   "display_name": ".venv",
   "language": "python",
   "name": "python3"
  },
  "language_info": {
   "codemirror_mode": {
    "name": "ipython",
    "version": 3
   },
   "file_extension": ".py",
   "mimetype": "text/x-python",
   "name": "python",
   "nbconvert_exporter": "python",
   "pygments_lexer": "ipython3",
   "version": "3.10.8"
  }
 },
 "nbformat": 4,
 "nbformat_minor": 2
}
